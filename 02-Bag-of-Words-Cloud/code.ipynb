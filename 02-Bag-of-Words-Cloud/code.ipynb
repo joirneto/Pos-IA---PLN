{
 "cells": [
  {
   "cell_type": "markdown",
   "metadata": {},
   "source": [
    "Visualizamos os dados"
   ]
  },
  {
   "cell_type": "code",
   "execution_count": 5,
   "metadata": {},
   "outputs": [
    {
     "ename": "ModuleNotFoundError",
     "evalue": "No module named 'pandas'",
     "output_type": "error",
     "traceback": [
      "\u001b[0;31m---------------------------------------------------------------------------\u001b[0m",
      "\u001b[0;31mModuleNotFoundError\u001b[0m                       Traceback (most recent call last)",
      "Cell \u001b[0;32mIn[5], line 1\u001b[0m\n\u001b[0;32m----> 1\u001b[0m \u001b[38;5;28;01mimport\u001b[39;00m \u001b[38;5;21;01mpandas\u001b[39;00m \u001b[38;5;28;01mas\u001b[39;00m \u001b[38;5;21;01mpd\u001b[39;00m\n\u001b[1;32m      3\u001b[0m avaliacoes \u001b[38;5;241m=\u001b[39m pd\u001b[38;5;241m.\u001b[39mread_csv(\u001b[38;5;124m\"\u001b[39m\u001b[38;5;124m./b2w.csv\u001b[39m\u001b[38;5;124m\"\u001b[39m)\n\u001b[1;32m      4\u001b[0m avaliacoes\u001b[38;5;241m.\u001b[39mhead()\n",
      "\u001b[0;31mModuleNotFoundError\u001b[0m: No module named 'pandas'"
     ]
    }
   ],
   "source": [
    "import pandas as pd\n",
    "\n",
    "avaliacoes = pd.read_csv(\"./b2w.csv\")\n",
    "avaliacoes.head()"
   ]
  },
  {
   "cell_type": "markdown",
   "metadata": {},
   "source": [
    "Limpando colunas desnecessarias"
   ]
  },
  {
   "cell_type": "code",
   "execution_count": null,
   "metadata": {},
   "outputs": [],
   "source": [
    "avaliacoes = avaliacoes.drop([\"original_index\", \"review_text_processed\", \"review_text_tokenized\", \"rating\", \"kfold_polarity\", \"kfold_rating\"], axis=1)"
   ]
  },
  {
   "cell_type": "markdown",
   "metadata": {},
   "source": [
    "Tratando NAN"
   ]
  },
  {
   "cell_type": "code",
   "execution_count": null,
   "metadata": {},
   "outputs": [],
   "source": [
    "avaliacoes.dropna(inplace=True, axis=0)\n",
    "avaliacoes"
   ]
  },
  {
   "cell_type": "markdown",
   "metadata": {},
   "source": [
    "Observando dados por tipo de polaridade"
   ]
  },
  {
   "cell_type": "code",
   "execution_count": null,
   "metadata": {},
   "outputs": [],
   "source": [
    "avaliacoes.polarity.value_counts()"
   ]
  },
  {
   "cell_type": "markdown",
   "metadata": {},
   "source": [
    "Separação de dados de treino e teste"
   ]
  },
  {
   "cell_type": "code",
   "execution_count": 6,
   "metadata": {},
   "outputs": [
    {
     "ename": "ModuleNotFoundError",
     "evalue": "No module named 'sklearn'",
     "output_type": "error",
     "traceback": [
      "\u001b[0;31m---------------------------------------------------------------------------\u001b[0m",
      "\u001b[0;31mModuleNotFoundError\u001b[0m                       Traceback (most recent call last)",
      "Cell \u001b[0;32mIn[6], line 1\u001b[0m\n\u001b[0;32m----> 1\u001b[0m \u001b[38;5;28;01mfrom\u001b[39;00m \u001b[38;5;21;01msklearn\u001b[39;00m\u001b[38;5;21;01m.\u001b[39;00m\u001b[38;5;21;01mmodel_selection\u001b[39;00m \u001b[38;5;28;01mimport\u001b[39;00m train_test_split\n\u001b[1;32m      3\u001b[0m treino, teste, classe_treino, classe_teste \u001b[38;5;241m=\u001b[39m train_test_split(avaliacoes\u001b[38;5;241m.\u001b[39mreview_text,\n\u001b[1;32m      4\u001b[0m                                                               avaliacoes\u001b[38;5;241m.\u001b[39mpolarity,\n\u001b[1;32m      5\u001b[0m                                                               stratify\u001b[38;5;241m=\u001b[39mavaliacoes\u001b[38;5;241m.\u001b[39mpolarity,\n\u001b[1;32m      6\u001b[0m                                                               random_state \u001b[38;5;241m=\u001b[39m \u001b[38;5;241m71\u001b[39m)\n\u001b[1;32m      8\u001b[0m \u001b[38;5;28;01mfrom\u001b[39;00m \u001b[38;5;21;01msklearn\u001b[39;00m\u001b[38;5;21;01m.\u001b[39;00m\u001b[38;5;21;01mlinear_model\u001b[39;00m \u001b[38;5;28;01mimport\u001b[39;00m LogisticRegression\n",
      "\u001b[0;31mModuleNotFoundError\u001b[0m: No module named 'sklearn'"
     ]
    }
   ],
   "source": [
    "from sklearn.model_selection import train_test_split\n",
    "\n",
    "treino, teste, classe_treino, classe_teste = train_test_split(avaliacoes.review_text,\n",
    "                                                              avaliacoes.polarity,\n",
    "                                                              stratify=avaliacoes.polarity,\n",
    "                                                              random_state = 71)\n",
    "\n",
    "from sklearn.linear_model import LogisticRegression\n",
    "\n",
    "# regressao_logistica = LogisticRegression()\n",
    "# regressao_logistica.fit(treino, classe_treino)\n",
    "# acuracia = regressao_logistica.score(teste, classe_teste)\n",
    "# print(acuracia)\n",
    "\n",
    "from sklearn.feature_extraction.text import CountVectorizer\n",
    "\n",
    "texto = [\"Este produto é muito bom\", \"Este produto é muito ruim\"]\n",
    "vetorizar = CountVectorizer()\n",
    "bag_of_words = vetorizar.fit_transform(texto)\n",
    "\n",
    "\n",
    "matriz_esparsa = pd.DataFrame.sparse.from_spmatrix(bag_of_words,\n",
    "  columns=vetorizar.get_feature_names_out())\n",
    "vetorizar = CountVectorizer(max_features=100)\n",
    "bag_of_words = vetorizar.fit_transform(avaliacoes.review_text)\n",
    "print(bag_of_words.shape)\n",
    "def treinar_modelo(dados, coluna_texto, coluna_sentimento):\n",
    "  vetorizar = CountVectorizer(max_features=100)\n",
    "  bag_of_words = vetorizar.fit_transform(dados[coluna_texto])\n",
    "  treino, teste, classe_treino, classe_teste = train_test_split(bag_of_words,\n",
    "                                                                dados[coluna_sentimento],\n",
    "                                                                stratify=dados[coluna_sentimento],\n",
    "                                                                random_state = 71)\n",
    "  regressao_logistica = LogisticRegression()\n",
    "  regressao_logistica.fit(treino, classe_treino)\n",
    "  return regressao_logistica.score(teste, classe_teste)\n",
    "\n",
    "print(treinar_modelo(avaliacoes, \"review_text\", \"polarity\"))\n",
    "\n",
    "from wordcloud import WordCloud\n",
    "\n",
    "todas_avaliacoes = [texto for texto in avaliacoes.review_text]\n",
    "todas_palavras = ' '.join(todas_avaliacoes)\n",
    "nuvem_palavras = WordCloud(width=800, height=500,\n",
    "  max_font_size=110,\n",
    "  collocations=False).generate(todas_palavras)\n",
    "import matplotlib.pyplot as plt\n",
    "\n",
    "plt.figure(figsize=(10,7))\n",
    "plt.imshow(nuvem_palavras, interpolation='bilinear')\n",
    "plt.axis(\"off\")\n",
    "plt.show()\n",
    "\n",
    "avaliacoes.query(\"polarity == 1\")\n",
    "\n",
    "def word_cloud_neg(dados, coluna_texto):\n",
    "  texto_negativo = dados.query(\"polarity == 0\")\n",
    "  todas_avaliacoes = [texto for texto in texto_negativo[coluna_texto]]\n",
    "  todas_palavras = ' '.join(todas_avaliacoes)\n",
    "\n",
    "  plt.figure(figsize=(10,7))\n",
    "  plt.imshow(nuvem_palavras, interpolation='bilinear')\n",
    "  plt.axis(\"off\")\n",
    "  plt.show()\n",
    "\n",
    "def word_cloud_pos(dados, coluna_texto):\n",
    "  texto_positivo = dados.query(\"polarity == 1\")\n",
    "  todas_avaliacoes = [texto for texto in texto_positivo[coluna_texto]]\n",
    "  todas_palavras = ' '.join(todas_avaliacoes)\n",
    "\n",
    "  plt.figure(figsize=(10,7))\n",
    "  plt.imshow(nuvem_palavras, interpolation='bilinear')\n",
    "  plt.axis(\"off\")\n",
    "  plt.show()\n",
    "\n",
    "word_cloud_neg(avaliacoes, \"review_text\")\n",
    "word_cloud_pos(avaliacoes, \"review_text\")"
   ]
  },
  {
   "cell_type": "code",
   "execution_count": null,
   "metadata": {},
   "outputs": [],
   "source": []
  }
 ],
 "metadata": {
  "kernelspec": {
   "display_name": "Python 3",
   "language": "python",
   "name": "python3"
  },
  "language_info": {
   "codemirror_mode": {
    "name": "ipython",
    "version": 3
   },
   "file_extension": ".py",
   "mimetype": "text/x-python",
   "name": "python",
   "nbconvert_exporter": "python",
   "pygments_lexer": "ipython3",
   "version": "3.10.12"
  }
 },
 "nbformat": 4,
 "nbformat_minor": 2
}
